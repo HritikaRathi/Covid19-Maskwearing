{
 "cells": [
  {
   "cell_type": "code",
   "execution_count": 2,
   "id": "873c8aa0",
   "metadata": {},
   "outputs": [],
   "source": [
    "import os\n",
    "import time\n",
    "import numpy as np\n",
    "import pandas as pd\n",
    "import scipy.io as sio\n",
    "from IPython.display import display\n",
    "import itertools as it\n",
    "\n",
    "import matplotlib.pyplot as plt\n",
    "import pywt\n",
    "import scipy.stats\n",
    "\n",
    "import datetime as dt\n",
    "from collections import defaultdict, Counter\n",
    "from sklearn.model_selection import StratifiedKFold\n",
    "from sklearn.model_selection import KFold \n",
    "\n",
    "from sklearn.ensemble import GradientBoostingClassifier\n",
    "from sklearn.ensemble import RandomForestClassifier\n",
    "from sklearn.linear_model import LogisticRegression\n",
    "from sklearn.neighbors import KNeighborsClassifier\n",
    "from sklearn.tree import DecisionTreeClassifier\n",
    "from sklearn.svm import SVC\n",
    "from sklearn.neural_network import MLPClassifier\n",
    "from sklearn.naive_bayes import GaussianNB\n",
    "from sklearn.ensemble import AdaBoostClassifier\n",
    "from sklearn.gaussian_process import GaussianProcessClassifier"
   ]
  },
  {
   "cell_type": "code",
   "execution_count": 3,
   "id": "f271ce9f",
   "metadata": {},
   "outputs": [],
   "source": [
    "#Face Touching datasets\n",
    "\n",
    "data1fta=pd.read_csv('Acc FT 1.0.csv')\n",
    "data2fta=pd.read_csv('Acc FT 2.0.csv')\n",
    "data3fta=pd.read_csv('Acc FT 3.0.csv')\n",
    "data4fta=pd.read_csv('Acc FT 4.0.csv')\n",
    "data5fta=pd.read_csv('Acc FT 5.0.csv')\n",
    "data6fta=pd.read_csv('Acc FT 6.0.csv')\n",
    "\n",
    "data1ftg=pd.read_csv('Gyro FT 1.0.csv')\n",
    "data2ftg=pd.read_csv('Gyro FT 2.0.csv')\n",
    "data3ftg=pd.read_csv('Gyro FT 3.0.csv')\n",
    "data4ftg=pd.read_csv('Gyro FT 4.0.csv')\n",
    "data5ftg=pd.read_csv('Gyro FT 5.0.csv')\n",
    "data6ftg=pd.read_csv('Gyro FT 6.0.csv')\n",
    "\n",
    "\n",
    "#Mask wearing-removing datasets\n",
    "\n",
    "data1mwra=pd.read_csv('Acc MWR 1.0.csv')\n",
    "data2mwra=pd.read_csv('Acc MWR 2.0.csv')\n",
    "data3mwra=pd.read_csv('Acc MWR 3.0.csv')\n",
    "data4mwra=pd.read_csv('Acc MWR 4.0.csv')\n",
    "data5mwra=pd.read_csv('Acc MWR 5.0.csv')\n",
    "data6mwra=pd.read_csv('Acc MWR 6.0.csv')\n",
    "\n",
    "data1mwrg=pd.read_csv('Gyro MWR 1.0.csv')\n",
    "data2mwrg=pd.read_csv('Gyro MWR 2.0.csv')\n",
    "data3mwrg=pd.read_csv('Gyro MWR 3.0.csv')\n",
    "data4mwrg=pd.read_csv('Gyro MWR 4.0.csv')\n",
    "data5mwrg=pd.read_csv('Gyro MWR 5.0.csv')\n",
    "data6mwrg=pd.read_csv('Gyro MWR 6.0.csv')"
   ]
  },
  {
   "cell_type": "code",
   "execution_count": 4,
   "id": "c45c3961",
   "metadata": {},
   "outputs": [],
   "source": [
    "data_colsfta = ['time', 'accelx', 'accely','accelz', 'absolute_accel']\n",
    "data1fta.columns = data_colsfta\n",
    "data2fta.columns = data_colsfta\n",
    "data3fta.columns = data_colsfta\n",
    "data4fta.columns = data_colsfta\n",
    "data5fta.columns = data_colsfta\n",
    "data6fta.columns = data_colsfta\n",
    "\n",
    "\n",
    "data_colsftg = ['time', 'gyrox', 'gyroy','gyroz', 'absolute_gyro']\n",
    "data1ftg.columns = data_colsftg\n",
    "data2ftg.columns = data_colsftg\n",
    "data3ftg.columns = data_colsftg\n",
    "data4ftg.columns = data_colsftg\n",
    "data5ftg.columns = data_colsftg\n",
    "data6ftg.columns = data_colsftg\n",
    "\n",
    "\n",
    "data_colsmwra = ['time', 'accelx', 'accely','accelz', 'absolute_accel']\n",
    "data1mwra.columns = data_colsmwra\n",
    "data2mwra.columns = data_colsmwra\n",
    "data3mwra.columns = data_colsmwra\n",
    "data4mwra.columns = data_colsmwra\n",
    "data5mwra.columns = data_colsmwra\n",
    "data6mwra.columns = data_colsmwra\n",
    "\n",
    "data_colsmwrg = ['time', 'gyrox', 'gyroy','gyroz', 'absolute_gyro']\n",
    "data1mwrg.columns = data_colsmwrg\n",
    "data2mwrg.columns = data_colsmwrg\n",
    "data3mwrg.columns = data_colsmwrg\n",
    "data4mwrg.columns = data_colsmwrg\n",
    "data5mwrg.columns = data_colsmwrg\n",
    "data6mwrg.columns = data_colsmwrg"
   ]
  },
  {
   "cell_type": "code",
   "execution_count": 5,
   "id": "2a06b80a",
   "metadata": {},
   "outputs": [
    {
     "data": {
      "text/plain": [
       "(8182, 5)"
      ]
     },
     "execution_count": 5,
     "metadata": {},
     "output_type": "execute_result"
    }
   ],
   "source": [
    "data1mwra.shape"
   ]
  },
  {
   "cell_type": "code",
   "execution_count": 6,
   "id": "30b9931a",
   "metadata": {},
   "outputs": [
    {
     "data": {
      "text/plain": [
       "(8151, 5)"
      ]
     },
     "execution_count": 6,
     "metadata": {},
     "output_type": "execute_result"
    }
   ],
   "source": [
    "data1mwrg.shape"
   ]
  },
  {
   "cell_type": "code",
   "execution_count": 7,
   "id": "089d83b4",
   "metadata": {},
   "outputs": [],
   "source": [
    "def moving_window(acceld, length, step=1):\n",
    "    streams = it.tee(acceld, length)\n",
    "    return zip(*[it.islice(stream, i, None, step*length) for stream, i in zip(streams, it.count(step=step))])\n",
    "\n",
    "\n",
    "# len(accelx1_) =129 = length in overlap\n",
    "\n",
    "def overlap(acceld_,length):\n",
    "    newd=[]\n",
    "    wd=[]\n",
    "    for i in range ((length-1)):\n",
    "        newd=np.concatenate((acceld_[i], acceld_[i+1]))        \n",
    "        i=i+1\n",
    "        wd.append(newd)\n",
    "        \n",
    "    return wd\n",
    "\n",
    "def final_window(step):\n",
    "#     step=stepd.accelx\n",
    "    step_= list(moving_window(step, 64))\n",
    "    step_=np.asarray(step_)\n",
    "    l = len(step_)\n",
    "    wstep=[]\n",
    "    wstep=overlap(step_,l)\n",
    "    wstep=np.asarray(wstep)\n",
    "    return wstep"
   ]
  },
  {
   "cell_type": "code",
   "execution_count": 8,
   "id": "ad2da429",
   "metadata": {},
   "outputs": [],
   "source": [
    "## FaceTouching accelerometer\n",
    "\n",
    "#### x axis\n",
    "w1ftax=[]\n",
    "w1ftax=final_window(data1fta.accelx)\n",
    "\n",
    "w2ftax=[]\n",
    "w2ftax=final_window(data2fta.accelx)\n",
    "\n",
    "w3ftax=[]\n",
    "w3ftax=final_window(data3fta.accelx)\n",
    "\n",
    "w4ftax=[]\n",
    "w4ftax=final_window(data4fta.accelx)\n",
    "\n",
    "w5ftax=[]\n",
    "w5ftax=final_window(data5fta.accelx)\n",
    "\n",
    "w6ftax=[]\n",
    "w6ftax=final_window(data6fta.accelx)\n",
    "\n",
    "w1ftax=np.asarray(w1ftax)\n",
    "w2ftax=np.asarray(w2ftax)\n",
    "w3ftax=np.asarray(w3ftax)\n",
    "w4ftax=np.asarray(w4ftax)\n",
    "w5ftax=np.asarray(w5ftax)\n",
    "w6ftax=np.asarray(w6ftax)\n",
    "\n",
    "wftax = []\n",
    "wftax=np.concatenate((w1ftax,w2ftax))\n",
    "wftax=np.concatenate((wftax, w3ftax))\n",
    "wftax=np.concatenate((wftax, w4ftax))\n",
    "wftax=np.concatenate((wftax, w5ftax))\n",
    "wftax=np.concatenate((wftax, w6ftax))\n",
    "\n",
    "#### y axis\n",
    "w1ftay=[]\n",
    "w1ftay=final_window(data1fta.accely)\n",
    "\n",
    "w2ftay=[]\n",
    "w2ftay=final_window(data2fta.accely)\n",
    "\n",
    "w3ftay=[]\n",
    "w3ftay=final_window(data3fta.accely)\n",
    "\n",
    "w4ftay=[]\n",
    "w4ftay=final_window(data4fta.accely)\n",
    "\n",
    "w5ftay=[]\n",
    "w5ftay=final_window(data5fta.accely)\n",
    "\n",
    "w6ftay=[]\n",
    "w6ftay=final_window(data6fta.accely)\n",
    "\n",
    "w1ftay=np.asarray(w1ftay)\n",
    "w2ftay=np.asarray(w2ftay)\n",
    "w3ftay=np.asarray(w3ftay)\n",
    "w4ftay=np.asarray(w4ftay)\n",
    "w5ftay=np.asarray(w5ftay)\n",
    "w6ftay=np.asarray(w6ftay)\n",
    "\n",
    "wftay = []\n",
    "wftay=np.concatenate((w1ftay,w2ftay))\n",
    "wftay=np.concatenate((wftay, w3ftay))\n",
    "wftay=np.concatenate((wftay, w4ftay))\n",
    "wftay=np.concatenate((wftay, w5ftay))\n",
    "wftay=np.concatenate((wftay, w6ftay))\n",
    "\n",
    "#### z axis\n",
    "w1ftaz=[]\n",
    "w1ftaz=final_window(data1fta.accelz)\n",
    "\n",
    "w2ftaz=[]\n",
    "w2ftaz=final_window(data2fta.accelz)\n",
    "\n",
    "w3ftaz=[]\n",
    "w3ftaz=final_window(data3fta.accelz)\n",
    "\n",
    "w4ftaz=[]\n",
    "w4ftaz=final_window(data4fta.accelz)\n",
    "\n",
    "w5ftaz=[]\n",
    "w5ftaz=final_window(data5fta.accelz)\n",
    "\n",
    "w6ftaz=[]\n",
    "w6ftaz=final_window(data6fta.accelz)\n",
    "\n",
    "w1ftaz=np.asarray(w1ftaz)\n",
    "w2ftaz=np.asarray(w2ftaz)\n",
    "w3ftaz=np.asarray(w3ftaz)\n",
    "w4ftaz=np.asarray(w4ftaz)\n",
    "w5ftaz=np.asarray(w5ftaz)\n",
    "w6ftaz=np.asarray(w6ftaz)\n",
    "\n",
    "wftaz = []\n",
    "wftaz=np.concatenate((w1ftaz,w2ftaz))\n",
    "wftaz=np.concatenate((wftaz, w3ftaz))\n",
    "wftaz=np.concatenate((wftaz, w4ftaz))\n",
    "wftaz=np.concatenate((wftaz, w5ftaz))\n",
    "wftaz=np.concatenate((wftaz, w6ftaz))"
   ]
  },
  {
   "cell_type": "code",
   "execution_count": 9,
   "id": "c76459b8",
   "metadata": {},
   "outputs": [
    {
     "data": {
      "text/plain": [
       "(768, 128)"
      ]
     },
     "execution_count": 9,
     "metadata": {},
     "output_type": "execute_result"
    }
   ],
   "source": [
    "wftax.shape"
   ]
  },
  {
   "cell_type": "code",
   "execution_count": 10,
   "id": "755c7f41",
   "metadata": {},
   "outputs": [
    {
     "data": {
      "text/plain": [
       "(768, 128)"
      ]
     },
     "execution_count": 10,
     "metadata": {},
     "output_type": "execute_result"
    }
   ],
   "source": [
    "wftay.shape"
   ]
  },
  {
   "cell_type": "code",
   "execution_count": 11,
   "id": "232c7dc7",
   "metadata": {},
   "outputs": [
    {
     "data": {
      "text/plain": [
       "(768, 128)"
      ]
     },
     "execution_count": 11,
     "metadata": {},
     "output_type": "execute_result"
    }
   ],
   "source": [
    "wftaz.shape"
   ]
  },
  {
   "cell_type": "code",
   "execution_count": 13,
   "id": "34805dc4",
   "metadata": {},
   "outputs": [],
   "source": [
    "## FaceTouching gyroscope\n",
    "\n",
    "#### x axis\n",
    "w1ftgx=[]\n",
    "w1ftgx=final_window(data1ftg.gyrox)\n",
    "\n",
    "w2ftgx=[]\n",
    "w2ftgx=final_window(data2ftg.gyrox)\n",
    "\n",
    "w3ftgx=[]\n",
    "w3ftgx=final_window(data3ftg.gyrox)\n",
    "\n",
    "w4ftgx=[]\n",
    "w4ftgx=final_window(data4ftg.gyrox)\n",
    "\n",
    "w5ftgx=[]\n",
    "w5ftgx=final_window(data5ftg.gyrox)\n",
    "\n",
    "w6ftgx=[]\n",
    "w6ftgx=final_window(data6ftg.gyrox)\n",
    "\n",
    "w1ftgx=np.asarray(w1ftgx)\n",
    "w2ftgx=np.asarray(w2ftgx)\n",
    "w3ftgx=np.asarray(w3ftgx)\n",
    "w4ftgx=np.asarray(w4ftgx)\n",
    "w5ftgx=np.asarray(w5ftgx)\n",
    "w6ftgx=np.asarray(w6ftgx)\n",
    "\n",
    "wftgx = []\n",
    "wftgx=np.concatenate((w1ftgx,w2ftgx))\n",
    "wftgx=np.concatenate((wftgx, w3ftgx))\n",
    "wftgx=np.concatenate((wftgx, w4ftgx))\n",
    "wftgx=np.concatenate((wftgx, w5ftgx))\n",
    "wftgx=np.concatenate((wftgx, w6ftgx))\n",
    "\n",
    "#### y axis\n",
    "w1ftgy=[]\n",
    "w1ftgy=final_window(data1ftg.gyroy)\n",
    "\n",
    "w2ftgy=[]\n",
    "w2ftgy=final_window(data2ftg.gyroy)\n",
    "\n",
    "w3ftgy=[]\n",
    "w3ftgy=final_window(data3ftg.gyroy)\n",
    "\n",
    "w4ftgy=[]\n",
    "w4ftgy=final_window(data4ftg.gyroy)\n",
    "\n",
    "w5ftgy=[]\n",
    "w5ftgy=final_window(data5ftg.gyroy)\n",
    "\n",
    "w6ftgy=[]\n",
    "w6ftgy=final_window(data6ftg.gyroy)\n",
    "\n",
    "w1ftgy=np.asarray(w1ftgy)\n",
    "w2ftgy=np.asarray(w2ftgy)\n",
    "w3ftgy=np.asarray(w3ftgy)\n",
    "w4ftgy=np.asarray(w4ftgy)\n",
    "w5ftgy=np.asarray(w5ftgy)\n",
    "w6ftgy=np.asarray(w6ftgy)\n",
    "\n",
    "wftgy = []\n",
    "wftgy=np.concatenate((w1ftgy,w2ftgy))\n",
    "wftgy=np.concatenate((wftgy, w3ftgy))\n",
    "wftgy=np.concatenate((wftgy, w4ftgy))\n",
    "wftgy=np.concatenate((wftgy, w5ftgy))\n",
    "wftgy=np.concatenate((wftgy, w6ftgy))\n",
    "\n",
    "#### z axis\n",
    "w1ftgz=[]\n",
    "w1ftgz=final_window(data1ftg.gyroz)\n",
    "\n",
    "w2ftgz=[]\n",
    "w2ftgz=final_window(data2ftg.gyroz)\n",
    "\n",
    "w3ftgz=[]\n",
    "w3ftgz=final_window(data3ftg.gyroz)\n",
    "\n",
    "w4ftgz=[]\n",
    "w4ftgz=final_window(data4ftg.gyroz)\n",
    "\n",
    "w5ftgz=[]\n",
    "w5ftgz=final_window(data5ftg.gyroz)\n",
    "\n",
    "w6ftgz=[]\n",
    "w6ftgz=final_window(data6ftg.gyroz)\n",
    "\n",
    "w1ftgz=np.asarray(w1ftgz)\n",
    "w2ftgz=np.asarray(w2ftgz)\n",
    "w3ftgz=np.asarray(w3ftgz)\n",
    "w4ftgz=np.asarray(w4ftgz)\n",
    "w5ftgz=np.asarray(w5ftgz)\n",
    "w6ftgz=np.asarray(w6ftgz)\n",
    "\n",
    "wftgz = []\n",
    "wftgz=np.concatenate((w1ftgz,w2ftgz))\n",
    "wftgz=np.concatenate((wftgz, w3ftgz))\n",
    "wftgz=np.concatenate((wftgz, w4ftgz))\n",
    "wftgz=np.concatenate((wftgz, w5ftgz))\n",
    "wftgz=np.concatenate((wftgz, w6ftgz))"
   ]
  },
  {
   "cell_type": "code",
   "execution_count": 14,
   "id": "df896053",
   "metadata": {},
   "outputs": [
    {
     "data": {
      "text/plain": [
       "(756, 128)"
      ]
     },
     "execution_count": 14,
     "metadata": {},
     "output_type": "execute_result"
    }
   ],
   "source": [
    "wftgx.shape"
   ]
  },
  {
   "cell_type": "code",
   "execution_count": 15,
   "id": "bc73a3c6",
   "metadata": {},
   "outputs": [
    {
     "data": {
      "text/plain": [
       "(756, 128)"
      ]
     },
     "execution_count": 15,
     "metadata": {},
     "output_type": "execute_result"
    }
   ],
   "source": [
    "wftgy.shape"
   ]
  },
  {
   "cell_type": "code",
   "execution_count": 16,
   "id": "cdefc1a5",
   "metadata": {},
   "outputs": [
    {
     "data": {
      "text/plain": [
       "(756, 128)"
      ]
     },
     "execution_count": 16,
     "metadata": {},
     "output_type": "execute_result"
    }
   ],
   "source": [
    "wftgz.shape"
   ]
  },
  {
   "cell_type": "code",
   "execution_count": 28,
   "id": "281a6da6",
   "metadata": {},
   "outputs": [],
   "source": [
    "## MaskWearingRemoving accelerometer\n",
    "\n",
    "#### x axis\n",
    "w1mwrax=[]\n",
    "w1mwrax=final_window(data1mwra.accelx)\n",
    "\n",
    "w2mwrax=[]\n",
    "w2mwrax=final_window(data2mwra.accelx)\n",
    "\n",
    "w3mwrax=[]\n",
    "w3mwrax=final_window(data3mwra.accelx)\n",
    "\n",
    "w4mwrax=[]\n",
    "w4mwrax=final_window(data4mwra.accelx)\n",
    "\n",
    "w5mwrax=[]\n",
    "w5mwrax=final_window(data5mwra.accelx)\n",
    "\n",
    "w6mwrax=[]\n",
    "w6mwrax=final_window(data6mwra.accelx)\n",
    "\n",
    "w1mwrax=np.asarray(w1mwrax)\n",
    "w2mwrax=np.asarray(w2mwrax)\n",
    "w3mwrax=np.asarray(w3mwrax)\n",
    "w4mwrax=np.asarray(w4mwrax)\n",
    "w5mwrax=np.asarray(w5mwrax)\n",
    "w6mwrax=np.asarray(w6mwrax)\n",
    "\n",
    "wmwrax = []\n",
    "wmwrax=np.concatenate((w1mwrax,w2mwrax))\n",
    "wmwrax=np.concatenate((wmwrax, w3mwrax))\n",
    "wmwrax=np.concatenate((wmwrax, w4mwrax))\n",
    "wmwrax=np.concatenate((wmwrax, w5mwrax))\n",
    "wmwrax=np.concatenate((wmwrax, w6mwrax))\n",
    "\n",
    "#### y axis\n",
    "w1mwray=[]\n",
    "w1mwray=final_window(data1mwra.accely)\n",
    "\n",
    "w2mwray=[]\n",
    "w2mwray=final_window(data2mwra.accely)\n",
    "\n",
    "w3mwray=[]\n",
    "w3mwray=final_window(data3mwra.accely)\n",
    "\n",
    "w4mwray=[]\n",
    "w4mwray=final_window(data4mwra.accely)\n",
    "\n",
    "w5mwray=[]\n",
    "w5mwray=final_window(data5mwra.accely)\n",
    "\n",
    "w6mwray=[]\n",
    "w6mwray=final_window(data6mwra.accely)\n",
    "\n",
    "w1mwray=np.asarray(w1mwray)\n",
    "w2mwray=np.asarray(w2mwray)\n",
    "w3mwray=np.asarray(w3mwray)\n",
    "w4mwray=np.asarray(w4mwray)\n",
    "w5mwray=np.asarray(w5mwray)\n",
    "w6mwray=np.asarray(w6mwray)\n",
    "\n",
    "wmwray = []\n",
    "wmwray=np.concatenate((w1mwray,w2mwray))\n",
    "wmwray=np.concatenate((wmwray, w3mwray))\n",
    "wmwray=np.concatenate((wmwray, w4mwray))\n",
    "wmwray=np.concatenate((wmwray, w5mwray))\n",
    "wmwray=np.concatenate((wmwray, w6mwray))\n",
    "\n",
    "#### z axis\n",
    "w1mwraz=[]\n",
    "w1mwraz=final_window(data1mwra.accelz)\n",
    "\n",
    "w2mwraz=[]\n",
    "w2mwraz=final_window(data2mwra.accelz)\n",
    "\n",
    "w3mwraz=[]\n",
    "w3mwraz=final_window(data3mwra.accelz)\n",
    "\n",
    "w4mwraz=[]\n",
    "w4mwraz=final_window(data4mwra.accelz)\n",
    "\n",
    "w5mwraz=[]\n",
    "w5mwraz=final_window(data5mwra.accelz)\n",
    "\n",
    "w6mwraz=[]\n",
    "w6mwraz=final_window(data6mwra.accelz)\n",
    "\n",
    "w1mwraz=np.asarray(w1mwraz)\n",
    "w2mwraz=np.asarray(w2mwraz)\n",
    "w3mwraz=np.asarray(w3mwraz)\n",
    "w4mwraz=np.asarray(w4mwraz)\n",
    "w5mwraz=np.asarray(w5mwraz)\n",
    "w6mwraz=np.asarray(w6mwraz)\n",
    "\n",
    "wmwraz = []\n",
    "wmwraz=np.concatenate((w1mwraz,w2mwraz))\n",
    "wmwraz=np.concatenate((wmwraz, w3mwraz))\n",
    "wmwraz=np.concatenate((wmwraz, w4mwraz))\n",
    "wmwraz=np.concatenate((wmwraz, w5mwraz))\n",
    "wmwraz=np.concatenate((wmwraz, w6mwraz))"
   ]
  },
  {
   "cell_type": "code",
   "execution_count": 29,
   "id": "cc7835e0",
   "metadata": {},
   "outputs": [
    {
     "data": {
      "text/plain": [
       "(766, 128)"
      ]
     },
     "execution_count": 29,
     "metadata": {},
     "output_type": "execute_result"
    }
   ],
   "source": [
    "wmwrax.shape"
   ]
  },
  {
   "cell_type": "code",
   "execution_count": 30,
   "id": "9479736d",
   "metadata": {},
   "outputs": [
    {
     "data": {
      "text/plain": [
       "(766, 128)"
      ]
     },
     "execution_count": 30,
     "metadata": {},
     "output_type": "execute_result"
    }
   ],
   "source": [
    "wmwray.shape"
   ]
  },
  {
   "cell_type": "code",
   "execution_count": 31,
   "id": "2c3680dc",
   "metadata": {},
   "outputs": [
    {
     "data": {
      "text/plain": [
       "(766, 128)"
      ]
     },
     "execution_count": 31,
     "metadata": {},
     "output_type": "execute_result"
    }
   ],
   "source": [
    "wmwraz.shape"
   ]
  },
  {
   "cell_type": "code",
   "execution_count": 35,
   "id": "922d7f3f",
   "metadata": {},
   "outputs": [],
   "source": [
    "## MaskWearingRemoving gyroscope\n",
    "\n",
    "#### x axis\n",
    "w1mwrgx=[]\n",
    "w1mwrgx=final_window(data1mwrg.gyrox)\n",
    "\n",
    "w2mwrgx=[]\n",
    "w2mwrgx=final_window(data2mwrg.gyrox)\n",
    "\n",
    "w3mwrgx=[]\n",
    "w3mwrgx=final_window(data3mwrg.gyrox)\n",
    "\n",
    "w4mwrgx=[]\n",
    "w4mwrgx=final_window(data4mwrg.gyrox)\n",
    "\n",
    "w5mwrgx=[]\n",
    "w5mwrgx=final_window(data5mwrg.gyrox)\n",
    "\n",
    "w6mwrgx=[]\n",
    "w6mwrgx=final_window(data6mwrg.gyrox)\n",
    "\n",
    "w1mwrgx=np.asarray(w1mwrgx)\n",
    "w2mwrgx=np.asarray(w2mwrgx)\n",
    "w3mwrgx=np.asarray(w3mwrgx)\n",
    "w4mwrgx=np.asarray(w4mwrgx)\n",
    "w5mwrgx=np.asarray(w5mwrgx)\n",
    "w6mwrgx=np.asarray(w6mwrgx)\n",
    "\n",
    "wmwrgx = []\n",
    "wmwrgx=np.concatenate((w1mwrgx,w2mwrgx))\n",
    "wmwrgx=np.concatenate((wmwrgx, w3mwrgx))\n",
    "wmwrgx=np.concatenate((wmwrgx, w4mwrgx))\n",
    "wmwrgx=np.concatenate((wmwrgx, w5mwrgx))\n",
    "wmwrgx=np.concatenate((wmwrgx, w6mwrgx))\n",
    "\n",
    "#### y axis\n",
    "w1mwrgy=[]\n",
    "w1mwrgy=final_window(data1mwrg.gyroy)\n",
    "\n",
    "w2mwrgy=[]\n",
    "w2mwrgy=final_window(data2mwrg.gyroy)\n",
    "\n",
    "w3mwrgy=[]\n",
    "w3mwrgy=final_window(data3mwrg.gyroy)\n",
    "\n",
    "w4mwrgy=[]\n",
    "w4mwrgy=final_window(data4mwrg.gyroy)\n",
    "\n",
    "w5mwrgy=[]\n",
    "w5mwrgy=final_window(data5mwrg.gyroy)\n",
    "\n",
    "w6mwrgy=[]\n",
    "w6mwrgy=final_window(data6mwrg.gyroy)\n",
    "\n",
    "w1mwrgy=np.asarray(w1mwrgy)\n",
    "w2mwrgy=np.asarray(w2mwrgy)\n",
    "w3mwrgy=np.asarray(w3mwrgy)\n",
    "w4mwrgy=np.asarray(w4mwrgy)\n",
    "w5mwrgy=np.asarray(w5mwrgy)\n",
    "w6mwrgy=np.asarray(w6mwrgy)\n",
    "\n",
    "wmwrgy = []\n",
    "wmwrgy=np.concatenate((w1mwrgy,w2mwrgy))\n",
    "wmwrgy=np.concatenate((wmwrgy, w3mwrgy))\n",
    "wmwrgy=np.concatenate((wmwrgy, w4mwrgy))\n",
    "wmwrgy=np.concatenate((wmwrgy, w5mwrgy))\n",
    "wmwrgy=np.concatenate((wmwrgy, w6mwrgy))\n",
    "\n",
    "#### z axis\n",
    "w1mwrgz=[]\n",
    "w1mwrgz=final_window(data1mwrg.gyroz)\n",
    "\n",
    "w2mwrgz=[]\n",
    "w2mwrgz=final_window(data2mwrg.gyroz)\n",
    "\n",
    "w3mwrgz=[]\n",
    "w3mwrgz=final_window(data3mwrg.gyroz)\n",
    "\n",
    "w4mwrgz=[]\n",
    "w4mwrgz=final_window(data4mwrg.gyroz)\n",
    "\n",
    "w5mwrgz=[]\n",
    "w5mwrgz=final_window(data5mwrg.gyroz)\n",
    "\n",
    "w6mwrgz=[]\n",
    "w6mwrgz=final_window(data6mwrg.gyroz)\n",
    "\n",
    "w1mwrgz=np.asarray(w1mwrgz)\n",
    "w2mwrgz=np.asarray(w2mwrgz)\n",
    "w3mwrgz=np.asarray(w3mwrgz)\n",
    "w4mwrgz=np.asarray(w4mwrgz)\n",
    "w5mwrgz=np.asarray(w5mwrgz)\n",
    "w6mwrgz=np.asarray(w6mwrgz)\n",
    "\n",
    "wmwrgz = []\n",
    "wmwrgz=np.concatenate((w1mwrgz,w2mwrgz))\n",
    "wmwrgz=np.concatenate((wmwrgz, w3mwrgz))\n",
    "wmwrgz=np.concatenate((wmwrgz, w4mwrgz))\n",
    "wmwrgz=np.concatenate((wmwrgz, w5mwrgz))\n",
    "wmwrgz=np.concatenate((wmwrgz, w6mwrgz))"
   ]
  },
  {
   "cell_type": "code",
   "execution_count": 36,
   "id": "f4207bdc",
   "metadata": {},
   "outputs": [
    {
     "data": {
      "text/plain": [
       "(756, 128)"
      ]
     },
     "execution_count": 36,
     "metadata": {},
     "output_type": "execute_result"
    }
   ],
   "source": [
    "wmwrgx.shape"
   ]
  },
  {
   "cell_type": "code",
   "execution_count": 37,
   "id": "8f0de32e",
   "metadata": {},
   "outputs": [
    {
     "data": {
      "text/plain": [
       "(756, 128)"
      ]
     },
     "execution_count": 37,
     "metadata": {},
     "output_type": "execute_result"
    }
   ],
   "source": [
    "wmwrgy.shape"
   ]
  },
  {
   "cell_type": "code",
   "execution_count": 38,
   "id": "793d6964",
   "metadata": {},
   "outputs": [
    {
     "data": {
      "text/plain": [
       "(756, 128)"
      ]
     },
     "execution_count": 38,
     "metadata": {},
     "output_type": "execute_result"
    }
   ],
   "source": [
    "wmwrgz.shape"
   ]
  },
  {
   "cell_type": "code",
   "execution_count": 39,
   "id": "f6730920",
   "metadata": {},
   "outputs": [],
   "source": [
    "activities_description = {\n",
    "    1: 'Face Touching',\n",
    "    2: 'Mask Removing and Wearing'\n",
    "}"
   ]
  },
  {
   "cell_type": "code",
   "execution_count": 40,
   "id": "a475e52c",
   "metadata": {},
   "outputs": [],
   "source": [
    "def randomize(dataset, labels):\n",
    "    permutation = np.random.permutation(labels.shape[0])\n",
    "    shuffled_dataset = dataset[permutation, :, :]\n",
    "    shuffled_labels = labels[permutation]\n",
    "    return shuffled_dataset, shuffled_labels\n",
    "\n",
    "def randomize_data(dataset):\n",
    "    permutation = np.random.permutation(dataset.shape[0])\n",
    "    shuffled_dataset = dataset[permutation, :, :]\n",
    "    return shuffled_dataset"
   ]
  },
  {
   "cell_type": "code",
   "execution_count": 44,
   "id": "f11e4568",
   "metadata": {},
   "outputs": [
    {
     "data": {
      "text/plain": [
       "(756, 128)"
      ]
     },
     "execution_count": 44,
     "metadata": {},
     "output_type": "execute_result"
    }
   ],
   "source": [
    "wftax_r=[]\n",
    "wftax_r = wftax[0:341]\n",
    "wftax_r=np.concatenate((wftax_r,wftax[346:490]))\n",
    "wftax_r=np.concatenate((wftax_r,wftax[495:766]))\n",
    "wftax_r.shape"
   ]
  },
  {
   "cell_type": "code",
   "execution_count": 45,
   "id": "d669cc5f",
   "metadata": {},
   "outputs": [
    {
     "data": {
      "text/plain": [
       "(756, 128)"
      ]
     },
     "execution_count": 45,
     "metadata": {},
     "output_type": "execute_result"
    }
   ],
   "source": [
    "wftay_r=[]\n",
    "wftay_r = wftay[0:341]\n",
    "wftay_r=np.concatenate((wftay_r,wftay[346:490]))\n",
    "wftay_r=np.concatenate((wftay_r,wftay[495:766]))\n",
    "wftay_r.shape"
   ]
  },
  {
   "cell_type": "code",
   "execution_count": 46,
   "id": "c91c1669",
   "metadata": {},
   "outputs": [
    {
     "data": {
      "text/plain": [
       "(756, 128)"
      ]
     },
     "execution_count": 46,
     "metadata": {},
     "output_type": "execute_result"
    }
   ],
   "source": [
    "wftaz_r=[]\n",
    "wftaz_r = wftaz[0:341]\n",
    "wftaz_r=np.concatenate((wftaz_r,wftaz[346:490]))\n",
    "wftaz_r=np.concatenate((wftaz_r,wftaz[495:766]))\n",
    "wftaz_r.shape"
   ]
  },
  {
   "cell_type": "code",
   "execution_count": 48,
   "id": "3d48bb33",
   "metadata": {},
   "outputs": [
    {
     "data": {
      "text/plain": [
       "(6, 756, 128)"
      ]
     },
     "execution_count": 48,
     "metadata": {},
     "output_type": "execute_result"
    }
   ],
   "source": [
    "ft=np.stack((wftax_r,wftay_r,wftaz_r,wftgx,wftgy,wftgz))\n",
    "ft.shape"
   ]
  },
  {
   "cell_type": "code",
   "execution_count": 76,
   "id": "4a9c4f9c",
   "metadata": {},
   "outputs": [
    {
     "data": {
      "text/plain": [
       "(756, 128, 6)"
      ]
     },
     "execution_count": 76,
     "metadata": {},
     "output_type": "execute_result"
    }
   ],
   "source": [
    "ft=ft.transpose(1,2,0)\n",
    "ft.shape"
   ]
  },
  {
   "cell_type": "code",
   "execution_count": 77,
   "id": "cf2c766e",
   "metadata": {},
   "outputs": [
    {
     "data": {
      "text/plain": [
       "(756, 128)"
      ]
     },
     "execution_count": 77,
     "metadata": {},
     "output_type": "execute_result"
    }
   ],
   "source": [
    "wmwrax_r=[]\n",
    "wmwrax_r = wmwrax[0:340]\n",
    "wmwrax_r=np.concatenate((wmwrax_r,wmwrax[342:490]))\n",
    "wmwrax_r=np.concatenate((wmwrax_r,wmwrax[498:768]))\n",
    "wmwrax_r.shape"
   ]
  },
  {
   "cell_type": "code",
   "execution_count": 78,
   "id": "d29eaac6",
   "metadata": {},
   "outputs": [
    {
     "data": {
      "text/plain": [
       "(756, 128)"
      ]
     },
     "execution_count": 78,
     "metadata": {},
     "output_type": "execute_result"
    }
   ],
   "source": [
    "wmwray_r=[]\n",
    "wmwray_r = wmwray[0:340]\n",
    "wmwray_r=np.concatenate((wmwray_r,wmwray[342:490]))\n",
    "wmwray_r=np.concatenate((wmwray_r,wmwray[498:768]))\n",
    "wmwray_r.shape"
   ]
  },
  {
   "cell_type": "code",
   "execution_count": 79,
   "id": "9644b77a",
   "metadata": {},
   "outputs": [
    {
     "data": {
      "text/plain": [
       "(756, 128)"
      ]
     },
     "execution_count": 79,
     "metadata": {},
     "output_type": "execute_result"
    }
   ],
   "source": [
    "wmwraz_r=[]\n",
    "wmwraz_r = wmwraz[0:340]\n",
    "wmwraz_r=np.concatenate((wmwraz_r,wmwraz[342:490]))\n",
    "wmwraz_r=np.concatenate((wmwraz_r,wmwraz[498:768]))\n",
    "wmwraz_r.shape"
   ]
  },
  {
   "cell_type": "code",
   "execution_count": 80,
   "id": "c62504f9",
   "metadata": {},
   "outputs": [
    {
     "data": {
      "text/plain": [
       "(6, 756, 128)"
      ]
     },
     "execution_count": 80,
     "metadata": {},
     "output_type": "execute_result"
    }
   ],
   "source": [
    "mwr=np.stack((wmwrax_r,wmwray_r,wmwraz_r,wmwrgx,wmwrgy,wmwrgz))\n",
    "mwr.shape"
   ]
  },
  {
   "cell_type": "code",
   "execution_count": 81,
   "id": "56b985a2",
   "metadata": {},
   "outputs": [
    {
     "data": {
      "text/plain": [
       "(756, 128, 6)"
      ]
     },
     "execution_count": 81,
     "metadata": {},
     "output_type": "execute_result"
    }
   ],
   "source": [
    "mwr=mwr.transpose(1,2,0)\n",
    "mwr.shape"
   ]
  },
  {
   "cell_type": "code",
   "execution_count": 82,
   "id": "63ac0b3b",
   "metadata": {},
   "outputs": [
    {
     "data": {
      "text/plain": [
       "(756, 128, 6)"
      ]
     },
     "execution_count": 82,
     "metadata": {},
     "output_type": "execute_result"
    }
   ],
   "source": [
    "mwr= randomize_data(mwr)\n",
    "mwr.shape\n",
    "\n",
    "ft= randomize_data(ft)\n",
    "ft.shape"
   ]
  },
  {
   "cell_type": "code",
   "execution_count": 83,
   "id": "d663f5ae",
   "metadata": {},
   "outputs": [],
   "source": [
    "# 70% of 756 = 529.2\n",
    "x_trainft=ft[:529]\n",
    "x_testft= ft[529:]\n",
    "\n",
    "x_trainmwr=mwr[:529]\n",
    "x_testmwr= mwr[529:]"
   ]
  },
  {
   "cell_type": "code",
   "execution_count": 84,
   "id": "e7d2b4ab",
   "metadata": {},
   "outputs": [
    {
     "data": {
      "text/plain": [
       "(227, 128, 6)"
      ]
     },
     "execution_count": 84,
     "metadata": {},
     "output_type": "execute_result"
    }
   ],
   "source": [
    "x_testft.shape"
   ]
  },
  {
   "cell_type": "code",
   "execution_count": 85,
   "id": "0c8cbc68",
   "metadata": {},
   "outputs": [
    {
     "data": {
      "text/plain": [
       "(1058, 128, 6)"
      ]
     },
     "execution_count": 85,
     "metadata": {},
     "output_type": "execute_result"
    }
   ],
   "source": [
    "x_train=[]\n",
    "x_train=np.concatenate((x_trainft, x_trainmwr))\n",
    "x_train.shape"
   ]
  },
  {
   "cell_type": "code",
   "execution_count": 86,
   "id": "280b0dca",
   "metadata": {},
   "outputs": [
    {
     "data": {
      "text/plain": [
       "(454, 128, 6)"
      ]
     },
     "execution_count": 86,
     "metadata": {},
     "output_type": "execute_result"
    }
   ],
   "source": [
    "x_test=[]\n",
    "x_test=np.concatenate((x_testft, x_testmwr))\n",
    "x_test.shape"
   ]
  },
  {
   "cell_type": "code",
   "execution_count": 87,
   "id": "d0e40912",
   "metadata": {},
   "outputs": [],
   "source": [
    "y_trainft=np.full((529), 1, dtype=int)\n",
    "y_trainmwr=np.full((529), 2, dtype=int)\n",
    "\n",
    "\n",
    "y_testft=np.full((227), 1, dtype=int)\n",
    "y_testmwr=np.full((227), 2, dtype=int)\n"
   ]
  },
  {
   "cell_type": "code",
   "execution_count": 88,
   "id": "56ce7dd7",
   "metadata": {},
   "outputs": [
    {
     "data": {
      "text/plain": [
       "(1058,)"
      ]
     },
     "execution_count": 88,
     "metadata": {},
     "output_type": "execute_result"
    }
   ],
   "source": [
    "y_train=[]\n",
    "y_train=np.concatenate((y_trainft, y_trainmwr))\n",
    "y_train.shape"
   ]
  },
  {
   "cell_type": "code",
   "execution_count": 89,
   "id": "dced68e6",
   "metadata": {},
   "outputs": [
    {
     "data": {
      "text/plain": [
       "(454,)"
      ]
     },
     "execution_count": 89,
     "metadata": {},
     "output_type": "execute_result"
    }
   ],
   "source": [
    "y_test=[]\n",
    "y_test=np.concatenate((y_testft, y_testmwr))\n",
    "y_test.shape"
   ]
  },
  {
   "cell_type": "code",
   "execution_count": 90,
   "id": "a3a6ac0c",
   "metadata": {},
   "outputs": [
    {
     "name": "stdout",
     "output_type": "stream",
     "text": [
      "Train: [  53   54   55   56   57   58   59   60   61   62   63   64   65   66\n",
      "   67   68   69   70   71   72   73   74   75   76   77   78   79   80\n",
      "   81   82   83   84   85   86   87   88   89   90   91   92   93   94\n",
      "   95   96   97   98   99  100  101  102  103  104  105  106  107  108\n",
      "  109  110  111  112  113  114  115  116  117  118  119  120  121  122\n",
      "  123  124  125  126  127  128  129  130  131  132  133  134  135  136\n",
      "  137  138  139  140  141  142  143  144  145  146  147  148  149  150\n",
      "  151  152  153  154  155  156  157  158  159  160  161  162  163  164\n",
      "  165  166  167  168  169  170  171  172  173  174  175  176  177  178\n",
      "  179  180  181  182  183  184  185  186  187  188  189  190  191  192\n",
      "  193  194  195  196  197  198  199  200  201  202  203  204  205  206\n",
      "  207  208  209  210  211  212  213  214  215  216  217  218  219  220\n",
      "  221  222  223  224  225  226  227  228  229  230  231  232  233  234\n",
      "  235  236  237  238  239  240  241  242  243  244  245  246  247  248\n",
      "  249  250  251  252  253  254  255  256  257  258  259  260  261  262\n",
      "  263  264  265  266  267  268  269  270  271  272  273  274  275  276\n",
      "  277  278  279  280  281  282  283  284  285  286  287  288  289  290\n",
      "  291  292  293  294  295  296  297  298  299  300  301  302  303  304\n",
      "  305  306  307  308  309  310  311  312  313  314  315  316  317  318\n",
      "  319  320  321  322  323  324  325  326  327  328  329  330  331  332\n",
      "  333  334  335  336  337  338  339  340  341  342  343  344  345  346\n",
      "  347  348  349  350  351  352  353  354  355  356  357  358  359  360\n",
      "  361  362  363  364  365  366  367  368  369  370  371  372  373  374\n",
      "  375  376  377  378  379  380  381  382  383  384  385  386  387  388\n",
      "  389  390  391  392  393  394  395  396  397  398  399  400  401  402\n",
      "  403  404  405  406  407  408  409  410  411  412  413  414  415  416\n",
      "  417  418  419  420  421  422  423  424  425  426  427  428  429  430\n",
      "  431  432  433  434  435  436  437  438  439  440  441  442  443  444\n",
      "  445  446  447  448  449  450  451  452  453  454  455  456  457  458\n",
      "  459  460  461  462  463  464  465  466  467  468  469  470  471  472\n",
      "  473  474  475  476  477  478  479  480  481  482  483  484  485  486\n",
      "  487  488  489  490  491  492  493  494  495  496  497  498  499  500\n",
      "  501  502  503  504  505  506  507  508  509  510  511  512  513  514\n",
      "  515  516  517  518  519  520  521  522  523  524  525  526  527  528\n",
      "  582  583  584  585  586  587  588  589  590  591  592  593  594  595\n",
      "  596  597  598  599  600  601  602  603  604  605  606  607  608  609\n",
      "  610  611  612  613  614  615  616  617  618  619  620  621  622  623\n",
      "  624  625  626  627  628  629  630  631  632  633  634  635  636  637\n",
      "  638  639  640  641  642  643  644  645  646  647  648  649  650  651\n",
      "  652  653  654  655  656  657  658  659  660  661  662  663  664  665\n",
      "  666  667  668  669  670  671  672  673  674  675  676  677  678  679\n",
      "  680  681  682  683  684  685  686  687  688  689  690  691  692  693\n",
      "  694  695  696  697  698  699  700  701  702  703  704  705  706  707\n",
      "  708  709  710  711  712  713  714  715  716  717  718  719  720  721\n",
      "  722  723  724  725  726  727  728  729  730  731  732  733  734  735\n",
      "  736  737  738  739  740  741  742  743  744  745  746  747  748  749\n",
      "  750  751  752  753  754  755  756  757  758  759  760  761  762  763\n",
      "  764  765  766  767  768  769  770  771  772  773  774  775  776  777\n",
      "  778  779  780  781  782  783  784  785  786  787  788  789  790  791\n",
      "  792  793  794  795  796  797  798  799  800  801  802  803  804  805\n",
      "  806  807  808  809  810  811  812  813  814  815  816  817  818  819\n",
      "  820  821  822  823  824  825  826  827  828  829  830  831  832  833\n",
      "  834  835  836  837  838  839  840  841  842  843  844  845  846  847\n",
      "  848  849  850  851  852  853  854  855  856  857  858  859  860  861\n",
      "  862  863  864  865  866  867  868  869  870  871  872  873  874  875\n",
      "  876  877  878  879  880  881  882  883  884  885  886  887  888  889\n",
      "  890  891  892  893  894  895  896  897  898  899  900  901  902  903\n",
      "  904  905  906  907  908  909  910  911  912  913  914  915  916  917\n",
      "  918  919  920  921  922  923  924  925  926  927  928  929  930  931\n",
      "  932  933  934  935  936  937  938  939  940  941  942  943  944  945\n",
      "  946  947  948  949  950  951  952  953  954  955  956  957  958  959\n",
      "  960  961  962  963  964  965  966  967  968  969  970  971  972  973\n",
      "  974  975  976  977  978  979  980  981  982  983  984  985  986  987\n",
      "  988  989  990  991  992  993  994  995  996  997  998  999 1000 1001\n",
      " 1002 1003 1004 1005 1006 1007 1008 1009 1010 1011 1012 1013 1014 1015\n",
      " 1016 1017 1018 1019 1020 1021 1022 1023 1024 1025 1026 1027 1028 1029\n",
      " 1030 1031 1032 1033 1034 1035 1036 1037 1038 1039 1040 1041 1042 1043\n",
      " 1044 1045 1046 1047 1048 1049 1050 1051 1052 1053 1054 1055 1056 1057] Validation: [  0   1   2   3   4   5   6   7   8   9  10  11  12  13  14  15  16  17\n",
      "  18  19  20  21  22  23  24  25  26  27  28  29  30  31  32  33  34  35\n",
      "  36  37  38  39  40  41  42  43  44  45  46  47  48  49  50  51  52 529\n",
      " 530 531 532 533 534 535 536 537 538 539 540 541 542 543 544 545 546 547\n",
      " 548 549 550 551 552 553 554 555 556 557 558 559 560 561 562 563 564 565\n",
      " 566 567 568 569 570 571 572 573 574 575 576 577 578 579 580 581]\n"
     ]
    },
    {
     "ename": "NameError",
     "evalue": "name 'get_uci_har_features' is not defined",
     "output_type": "error",
     "traceback": [
      "\u001b[1;31m---------------------------------------------------------------------------\u001b[0m",
      "\u001b[1;31mNameError\u001b[0m                                 Traceback (most recent call last)",
      "\u001b[1;32m<ipython-input-90-c967b8b71c49>\u001b[0m in \u001b[0;36m<module>\u001b[1;34m\u001b[0m\n\u001b[0;32m      6\u001b[0m     \u001b[0msignals_train\u001b[0m\u001b[1;33m,\u001b[0m \u001b[0msignals_test\u001b[0m \u001b[1;33m=\u001b[0m \u001b[0mx_train\u001b[0m\u001b[1;33m[\u001b[0m\u001b[0mtrain_index\u001b[0m\u001b[1;33m]\u001b[0m\u001b[1;33m,\u001b[0m \u001b[0mx_train\u001b[0m\u001b[1;33m[\u001b[0m\u001b[0mtest_index\u001b[0m\u001b[1;33m]\u001b[0m\u001b[1;33m\u001b[0m\u001b[1;33m\u001b[0m\u001b[0m\n\u001b[0;32m      7\u001b[0m     \u001b[0mlabels_train\u001b[0m\u001b[1;33m,\u001b[0m \u001b[0mlabels_test\u001b[0m \u001b[1;33m=\u001b[0m \u001b[0my_train\u001b[0m\u001b[1;33m[\u001b[0m\u001b[0mtrain_index\u001b[0m\u001b[1;33m]\u001b[0m\u001b[1;33m,\u001b[0m \u001b[0my_train\u001b[0m\u001b[1;33m[\u001b[0m\u001b[0mtest_index\u001b[0m\u001b[1;33m]\u001b[0m\u001b[1;33m\u001b[0m\u001b[1;33m\u001b[0m\u001b[0m\n\u001b[1;32m----> 8\u001b[1;33m     \u001b[0mX_train\u001b[0m\u001b[1;33m,\u001b[0m \u001b[0mY_train\u001b[0m \u001b[1;33m=\u001b[0m \u001b[0mget_uci_har_features\u001b[0m\u001b[1;33m(\u001b[0m\u001b[0msignals_train\u001b[0m\u001b[1;33m,\u001b[0m \u001b[0mlabels_train\u001b[0m\u001b[1;33m,\u001b[0m \u001b[0mwaveletname\u001b[0m\u001b[1;33m)\u001b[0m\u001b[1;33m\u001b[0m\u001b[1;33m\u001b[0m\u001b[0m\n\u001b[0m\u001b[0;32m      9\u001b[0m     \u001b[0mX_test\u001b[0m\u001b[1;33m,\u001b[0m \u001b[0mY_test\u001b[0m \u001b[1;33m=\u001b[0m \u001b[0mget_uci_har_features\u001b[0m\u001b[1;33m(\u001b[0m\u001b[0msignals_test\u001b[0m\u001b[1;33m,\u001b[0m \u001b[0mlabels_test\u001b[0m\u001b[1;33m,\u001b[0m \u001b[0mwaveletname\u001b[0m\u001b[1;33m)\u001b[0m\u001b[1;33m\u001b[0m\u001b[1;33m\u001b[0m\u001b[0m\n\u001b[0;32m     10\u001b[0m     \u001b[0mmodels\u001b[0m \u001b[1;33m=\u001b[0m \u001b[0mbatch_classify\u001b[0m\u001b[1;33m(\u001b[0m\u001b[0mX_train\u001b[0m\u001b[1;33m,\u001b[0m \u001b[0mY_train\u001b[0m\u001b[1;33m,\u001b[0m \u001b[0mX_test\u001b[0m\u001b[1;33m,\u001b[0m \u001b[0mY_test\u001b[0m\u001b[1;33m)\u001b[0m\u001b[1;33m\u001b[0m\u001b[1;33m\u001b[0m\u001b[0m\n",
      "\u001b[1;31mNameError\u001b[0m: name 'get_uci_har_features' is not defined"
     ]
    }
   ],
   "source": [
    "waveletname = 'db8'\n",
    "skf = StratifiedKFold(n_splits=10, random_state=None)\n",
    "# X is the feature set and y is the target\n",
    "for train_index, test_index in skf.split(x_train,y_train): \n",
    "    print(\"Train:\", train_index, \"Validation:\", test_index) \n",
    "    signals_train, signals_test = x_train[train_index], x_train[test_index] \n",
    "    labels_train, labels_test = y_train[train_index], y_train[test_index]    \n",
    "    X_train, Y_train = get_uci_har_features(signals_train, labels_train, waveletname)\n",
    "    X_test, Y_test = get_uci_har_features(signals_test, labels_test, waveletname)\n",
    "    models = batch_classify(X_train, Y_train, X_test, Y_test)\n",
    "    display_dict_models(models)"
   ]
  },
  {
   "cell_type": "code",
   "execution_count": 91,
   "id": "589ec9b5",
   "metadata": {},
   "outputs": [],
   "source": [
    "signals_train, labels_train = randomize(x_train, y_train)\n",
    "signals_test, labels_test = randomize(x_test, y_test)"
   ]
  },
  {
   "cell_type": "code",
   "execution_count": 121,
   "id": "37e2608f",
   "metadata": {},
   "outputs": [],
   "source": [
    "dict_classifiers = {\n",
    "    \"Gradient Boosting Classifier\": GradientBoostingClassifier(),\n",
    "    \"Random Forest\": RandomForestClassifier(),\n",
    "    \"Logistic Regression\": LogisticRegression(),\n",
    "    \"Nearest Neighbors\": KNeighborsClassifier(),\n",
    "    \"Decision Tree\": DecisionTreeClassifier(),\n",
    "    \"Linear SVM\": SVC(),\n",
    "    \"Neural Net\": MLPClassifier(alpha = 1),\n",
    "    \"Naive Bayes\": GaussianNB(),   \n",
    "    \"AdaBoost\": AdaBoostClassifier(),\n",
    "    \"Gaussian Process\": GaussianProcessClassifier()\n",
    "}\n",
    "   \n",
    "def batch_classify(X_train, Y_train, X_test, Y_test, no_classifiers = 10, verbose = True):\n",
    "    \"\"\"\n",
    "    This method, takes as input the X, Y matrices of the Train and Test set.\n",
    "    And fits them on all of the Classifiers specified in the dict_classifier.\n",
    "    Usually, the SVM, Random Forest and Gradient Boosting Classifier take quiet some time to train. \n",
    "    So it is best to train them on a smaller dataset first and \n",
    "    decide whether you want to comment them out or not based on the test accuracy score.\n",
    "    \"\"\"\n",
    "    \n",
    "    dict_models = {}\n",
    "    for classifier_name, classifier in list(dict_classifiers.items())[:no_classifiers]:\n",
    "        t_start =time.perf_counter()\n",
    "        classifier.fit(X_train, Y_train)\n",
    "        t_end = time.perf_counter()\n",
    "        \n",
    "        t_diff = t_end - t_start\n",
    "        train_score = classifier.score(X_train, Y_train)\n",
    "        test_score = classifier.score(X_test, Y_test)\n",
    "        \n",
    "        dict_models[classifier_name] = {'model': classifier, 'train_score': train_score, 'test_score': test_score, 'train_time': t_diff}\n",
    "        if verbose:\n",
    "            print(\"trained {c} in {f:.2f} s\".format(c=classifier_name, f=t_diff))\n",
    "    return dict_models\n",
    "\n",
    "def get_train_test(df, y_col, x_cols, ratio):\n",
    "    \"\"\" \n",
    "    This method transforms a dataframe into a train and test set, for this you need to specify:\n",
    "    1. the ratio train : test (usually 0.7)\n",
    "    2. the column with the Y_values\n",
    "    \"\"\"\n",
    "    mask = np.random.rand(len(df)) < ratio\n",
    "    df_train = df[mask]\n",
    "    df_test = df[~mask]\n",
    "       \n",
    "    Y_train = df_train[y_col].values\n",
    "    Y_test = df_test[y_col].values\n",
    "    X_train = df_train[x_cols].values\n",
    "    X_test = df_test[x_cols].values\n",
    "    return df_train, df_test, X_train, Y_train, X_test, Y_test\n",
    "    \n",
    "def display_dict_models(dict_models, sort_by='test_score'):\n",
    "    cls = [key for key in dict_models.keys()]\n",
    "    test_s = [dict_models[key]['test_score'] for key in cls]\n",
    "    training_s = [dict_models[key]['train_score'] for key in cls]\n",
    "    training_t = [dict_models[key]['train_time'] for key in cls]\n",
    "    \n",
    "    df_ = pd.DataFrame(data=np.zeros(shape=(len(cls),4)), columns = ['classifier', 'train_score', 'test_score', 'train_time'])\n",
    "    for ii in range(0,len(cls)):\n",
    "        df_.loc[ii, 'classifier'] = cls[ii]\n",
    "        df_.loc[ii, 'train_score'] = training_s[ii]\n",
    "        df_.loc[ii, 'test_score'] = test_s[ii]\n",
    "        df_.loc[ii, 'train_time'] = training_t[ii]\n",
    "    \n",
    "    display(df_.sort_values(by=sort_by, ascending=False))\n",
    "    \n",
    "def calculate_entropy(list_values):\n",
    "    counter_values = Counter(list_values).most_common()\n",
    "    probabilities = [elem[1]/len(list_values) for elem in counter_values]\n",
    "    entropy=scipy.stats.entropy(probabilities)\n",
    "    return entropy\n",
    "\n",
    "def calculate_statistics(list_values):\n",
    "    n5 = np.nanpercentile(list_values, 5)\n",
    "    n25 = np.nanpercentile(list_values, 25)\n",
    "    n75 = np.nanpercentile(list_values, 75)\n",
    "    n95 = np.nanpercentile(list_values, 95)\n",
    "    median = np.nanpercentile(list_values, 50)\n",
    "    mean = np.nanmean(list_values)\n",
    "    std = np.nanstd(list_values)\n",
    "    var = np.nanvar(list_values)\n",
    "    rms = np.nanmean(np.sqrt(list_values**2))\n",
    "    return [n5, n25, n75, n95, median, mean, std, var, rms]\n",
    "\n",
    "def calculate_crossings(list_values):\n",
    "    zero_crossing_indices = np.nonzero(np.diff(np.array(list_values) > 0))[0]\n",
    "    no_zero_crossings = len(zero_crossing_indices)\n",
    "    mean_crossing_indices = np.nonzero(np.diff(np.array(list_values) > np.nanmean(list_values)))[0]\n",
    "    no_mean_crossings = len(mean_crossing_indices)\n",
    "    return [no_zero_crossings, no_mean_crossings]\n",
    "\n",
    "def get_features(list_values):\n",
    "    entropy = calculate_entropy(list_values)\n",
    "    crossings = calculate_crossings(list_values)\n",
    "    statistics = calculate_statistics(list_values)\n",
    "    return [entropy] + crossings + statistics\n",
    "\n",
    "def get_uci_har_features(dataset, labels, waveletname):\n",
    "    uci_har_features = []\n",
    "    for signal_no in range(0, len(dataset)):\n",
    "        features = []\n",
    "        for signal_comp in range(0,dataset.shape[2]):\n",
    "            signal = dataset[signal_no, :, signal_comp]\n",
    "            list_coeff = pywt.wavedec(signal, waveletname)\n",
    "            for coeff in list_coeff:\n",
    "                features += get_features(coeff)\n",
    "        uci_har_features.append(features)\n",
    "    X = np.array(uci_har_features)\n",
    "    Y = np.array(labels)\n",
    "    return X, Y"
   ]
  },
  {
   "cell_type": "code",
   "execution_count": 122,
   "id": "be2089ed",
   "metadata": {},
   "outputs": [],
   "source": [
    "waveletname = 'db8'\n",
    "X_train, Y_train = get_uci_har_features(signals_train, labels_train, waveletname)\n",
    "X_test, Y_test = get_uci_har_features(signals_test, labels_test, waveletname)"
   ]
  },
  {
   "cell_type": "code",
   "execution_count": 123,
   "id": "bc48b4bc",
   "metadata": {},
   "outputs": [
    {
     "name": "stdout",
     "output_type": "stream",
     "text": [
      "trained Gradient Boosting Classifier in 2.64 s\n",
      "trained Random Forest in 0.20 s\n",
      "trained Logistic Regression in 0.03 s\n",
      "trained Nearest Neighbors in 0.00 s\n",
      "trained Decision Tree in 0.02 s\n"
     ]
    },
    {
     "name": "stderr",
     "output_type": "stream",
     "text": [
      "C:\\Users\\PANKAJ\\anaconda3\\lib\\site-packages\\sklearn\\linear_model\\_logistic.py:763: ConvergenceWarning: lbfgs failed to converge (status=1):\n",
      "STOP: TOTAL NO. of ITERATIONS REACHED LIMIT.\n",
      "\n",
      "Increase the number of iterations (max_iter) or scale the data as shown in:\n",
      "    https://scikit-learn.org/stable/modules/preprocessing.html\n",
      "Please also refer to the documentation for alternative solver options:\n",
      "    https://scikit-learn.org/stable/modules/linear_model.html#logistic-regression\n",
      "  n_iter_i = _check_optimize_result(\n"
     ]
    },
    {
     "name": "stdout",
     "output_type": "stream",
     "text": [
      "trained Linear SVM in 0.02 s\n"
     ]
    },
    {
     "name": "stderr",
     "output_type": "stream",
     "text": [
      "C:\\Users\\PANKAJ\\anaconda3\\lib\\site-packages\\sklearn\\neural_network\\_multilayer_perceptron.py:614: ConvergenceWarning: Stochastic Optimizer: Maximum iterations (200) reached and the optimization hasn't converged yet.\n",
      "  warnings.warn(\n"
     ]
    },
    {
     "name": "stdout",
     "output_type": "stream",
     "text": [
      "trained Neural Net in 1.25 s\n",
      "trained Naive Bayes in 0.00 s\n",
      "trained AdaBoost in 0.02 s\n",
      "trained Gaussian Process in 0.66 s\n"
     ]
    },
    {
     "data": {
      "text/html": [
       "<div>\n",
       "<style scoped>\n",
       "    .dataframe tbody tr th:only-of-type {\n",
       "        vertical-align: middle;\n",
       "    }\n",
       "\n",
       "    .dataframe tbody tr th {\n",
       "        vertical-align: top;\n",
       "    }\n",
       "\n",
       "    .dataframe thead th {\n",
       "        text-align: right;\n",
       "    }\n",
       "</style>\n",
       "<table border=\"1\" class=\"dataframe\">\n",
       "  <thead>\n",
       "    <tr style=\"text-align: right;\">\n",
       "      <th></th>\n",
       "      <th>classifier</th>\n",
       "      <th>train_score</th>\n",
       "      <th>test_score</th>\n",
       "      <th>train_time</th>\n",
       "    </tr>\n",
       "  </thead>\n",
       "  <tbody>\n",
       "    <tr>\n",
       "      <th>0</th>\n",
       "      <td>Gradient Boosting Classifier</td>\n",
       "      <td>1.000000</td>\n",
       "      <td>1.000000</td>\n",
       "      <td>2.639071</td>\n",
       "    </tr>\n",
       "    <tr>\n",
       "      <th>1</th>\n",
       "      <td>Random Forest</td>\n",
       "      <td>1.000000</td>\n",
       "      <td>1.000000</td>\n",
       "      <td>0.198640</td>\n",
       "    </tr>\n",
       "    <tr>\n",
       "      <th>2</th>\n",
       "      <td>Logistic Regression</td>\n",
       "      <td>1.000000</td>\n",
       "      <td>1.000000</td>\n",
       "      <td>0.026962</td>\n",
       "    </tr>\n",
       "    <tr>\n",
       "      <th>4</th>\n",
       "      <td>Decision Tree</td>\n",
       "      <td>1.000000</td>\n",
       "      <td>1.000000</td>\n",
       "      <td>0.022552</td>\n",
       "    </tr>\n",
       "    <tr>\n",
       "      <th>6</th>\n",
       "      <td>Neural Net</td>\n",
       "      <td>1.000000</td>\n",
       "      <td>1.000000</td>\n",
       "      <td>1.252338</td>\n",
       "    </tr>\n",
       "    <tr>\n",
       "      <th>7</th>\n",
       "      <td>Naive Bayes</td>\n",
       "      <td>1.000000</td>\n",
       "      <td>1.000000</td>\n",
       "      <td>0.004386</td>\n",
       "    </tr>\n",
       "    <tr>\n",
       "      <th>8</th>\n",
       "      <td>AdaBoost</td>\n",
       "      <td>1.000000</td>\n",
       "      <td>1.000000</td>\n",
       "      <td>0.022275</td>\n",
       "    </tr>\n",
       "    <tr>\n",
       "      <th>3</th>\n",
       "      <td>Nearest Neighbors</td>\n",
       "      <td>0.995274</td>\n",
       "      <td>0.997797</td>\n",
       "      <td>0.000507</td>\n",
       "    </tr>\n",
       "    <tr>\n",
       "      <th>5</th>\n",
       "      <td>Linear SVM</td>\n",
       "      <td>0.996219</td>\n",
       "      <td>0.997797</td>\n",
       "      <td>0.019395</td>\n",
       "    </tr>\n",
       "    <tr>\n",
       "      <th>9</th>\n",
       "      <td>Gaussian Process</td>\n",
       "      <td>1.000000</td>\n",
       "      <td>0.991189</td>\n",
       "      <td>0.664264</td>\n",
       "    </tr>\n",
       "  </tbody>\n",
       "</table>\n",
       "</div>"
      ],
      "text/plain": [
       "                     classifier  train_score  test_score  train_time\n",
       "0  Gradient Boosting Classifier     1.000000    1.000000    2.639071\n",
       "1                 Random Forest     1.000000    1.000000    0.198640\n",
       "2           Logistic Regression     1.000000    1.000000    0.026962\n",
       "4                 Decision Tree     1.000000    1.000000    0.022552\n",
       "6                    Neural Net     1.000000    1.000000    1.252338\n",
       "7                   Naive Bayes     1.000000    1.000000    0.004386\n",
       "8                      AdaBoost     1.000000    1.000000    0.022275\n",
       "3             Nearest Neighbors     0.995274    0.997797    0.000507\n",
       "5                    Linear SVM     0.996219    0.997797    0.019395\n",
       "9              Gaussian Process     1.000000    0.991189    0.664264"
      ]
     },
     "metadata": {},
     "output_type": "display_data"
    }
   ],
   "source": [
    "models = batch_classify(X_train, Y_train, X_test, Y_test)\n",
    "display_dict_models(models)"
   ]
  },
  {
   "cell_type": "code",
   "execution_count": null,
   "id": "7893478e",
   "metadata": {},
   "outputs": [],
   "source": []
  }
 ],
 "metadata": {
  "kernelspec": {
   "display_name": "Python 3",
   "language": "python",
   "name": "python3"
  },
  "language_info": {
   "codemirror_mode": {
    "name": "ipython",
    "version": 3
   },
   "file_extension": ".py",
   "mimetype": "text/x-python",
   "name": "python",
   "nbconvert_exporter": "python",
   "pygments_lexer": "ipython3",
   "version": "3.8.8"
  }
 },
 "nbformat": 4,
 "nbformat_minor": 5
}
